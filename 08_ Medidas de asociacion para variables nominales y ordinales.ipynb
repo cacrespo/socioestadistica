{
 "cells": [
  {
   "cell_type": "markdown",
   "metadata": {},
   "source": [
    "# Medidas de asociación para variables nominales y ordinales"
   ]
  },
  {
   "cell_type": "markdown",
   "metadata": {},
   "source": [
    "## Medidas de asociación basadas en el criterio de «Reducción Proporcional del Error» (RPE)\r\n",
    "\r\n",
    "En el capítulo anterior tuvimos ocasión de estudiar algunas medidas basadas en la diferencia entre la frecuencia observada y la frecuencia esperada. A continuación vamos a presentar medidas basadas en un criterio diferente: **la reducción proporcional del error**.\r\n",
    "Las medidas de este tipo consisten en cocientes o _ratios_ de la cantidad de error cometido al predecir la variable dependiente en dos situaciones:\r\n",
    "- primeramente, la predicción se realiza cuando no se conoce más que la distribución de la propia variable dependiente;\r\n",
    "- en segundo lugar, la predicción se realiza cuando se dispone del conocimiento adicional de una variable independiente y de la forma en que la variable dependiente se distribuye dentro de las categorías de dicha variable independiente.\r\n",
    "\r\n",
    "$$ RPE = \\frac{\\text{ Reducción del error con más información }}{\\text{ Cantidad original del error} }$$\r\n",
    "\r\n",
    "> <sub>En la década de 1970 Leik y Gove se propusieron un nuevo principio lógico que se basa en la predicción de pares de valores, en lugar de la predicción de valores únicos. En el presente material no vamos a profundizar esta perspectiva.</sub>\r\n",
    "\r\n",
    "Según sea el nivel de medición de las variables cuya asociación tratamos de conocer, así será el tipo de valor que se trata de predecir.\r\n",
    "\r\n",
    "Las medidas de asociación que vamos estudiar a continuación consistenten en un conciente entre los distintos errores:\r\n",
    "\r\n",
    "$$ \\text{ Medida de asociación RPE } = \\frac{\\text{ Errores Predicción I } - \\text{ Errores Predicción II }}{\\text{ Errores Predicción I} }$$"
   ]
  },
  {
   "cell_type": "markdown",
   "metadata": {},
   "source": [
    "## Medidas de asociación para variables nominales\r\n",
    "\r\n",
    "\r\n",
    "### Coeficiente Lambda\r\n",
    "\r\n",
    "### Coeficiente Tau-y de Goodman y Kruskal\r\n",
    "\r\n",
    "### Coeficiente Tau-y de Goodman y Kruskal"
   ]
  },
  {
   "cell_type": "code",
   "execution_count": null,
   "metadata": {},
   "outputs": [],
   "source": [
    "## Medidas de asociación para variables ordinales\r\n",
    "\r\n",
    "\r\n",
    "### Tipos y cálculo de pares\r\n",
    "\r\n",
    "### Coeficiente Tau-a de Kendall\r\n",
    "\r\n",
    "### Coeficiente Gamma de Goodman y Kruskal\r\n",
    "\r\n",
    "### Coeficiente d de Somers\r\n",
    "\r\n",
    "### Coeficiente Tau-b de Kendall\r\n",
    "\r\n",
    "### Coeficiente rho de Spearman\r\n"
   ]
  },
  {
   "cell_type": "code",
   "execution_count": null,
   "metadata": {},
   "outputs": [],
   "source": [
    "## La matriz de asociaciones"
   ]
  }
 ],
 "metadata": {
  "interpreter": {
   "hash": "ac824d9314dcf3e3ec65ce98774119415516c06c800c55d596a680dfe4488604"
  },
  "kernelspec": {
   "display_name": "Python 3.8.6 64-bit",
   "name": "python3"
  },
  "language_info": {
   "name": "python",
   "version": ""
  },
  "metadata": {
   "interpreter": {
    "hash": "ac824d9314dcf3e3ec65ce98774119415516c06c800c55d596a680dfe4488604"
   }
  },
  "orig_nbformat": 2
 },
 "nbformat": 4,
 "nbformat_minor": 2
}