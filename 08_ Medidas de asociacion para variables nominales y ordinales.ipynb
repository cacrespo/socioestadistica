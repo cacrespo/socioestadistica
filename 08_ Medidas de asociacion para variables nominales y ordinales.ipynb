{
 "cells": [
  {
   "cell_type": "markdown",
   "metadata": {},
   "source": [
    "# Medidas de asociación para variables nominales y ordinales"
   ]
  },
  {
   "cell_type": "markdown",
   "metadata": {},
   "source": [
    "## Medidas de asociación basadas en el criterio de «Reducción Proporcional del Error» (RPE)\r\n"
   ]
  },
  {
   "cell_type": "code",
   "execution_count": null,
   "metadata": {},
   "outputs": [],
   "source": [
    "## Medidas de asociación para variables nominales\r\n",
    "\r\n",
    "### Coeficiente Lambda\r\n",
    "\r\n",
    "### Coeficiente Tau-y de Goodman y Kruskal\r\n",
    "\r\n",
    "### Coeficiente Tau-y de Goodman y Kruskal"
   ]
  },
  {
   "cell_type": "code",
   "execution_count": null,
   "metadata": {},
   "outputs": [],
   "source": [
    "## Medidas de asociación para variables ordinales\r\n",
    "\r\n",
    "\r\n",
    "### Tipos y cálculo de pares\r\n",
    "\r\n",
    "### Coeficiente Tau-a de Kendall\r\n",
    "\r\n",
    "### Coeficiente Gamma de Goodman y Kruskal\r\n",
    "\r\n",
    "### Coeficiente d de Somers\r\n",
    "\r\n",
    "### Coeficiente Tau-b de Kendall\r\n",
    "\r\n",
    "### Coeficiente rho de Spearman\r\n"
   ]
  },
  {
   "cell_type": "code",
   "execution_count": null,
   "metadata": {},
   "outputs": [],
   "source": [
    "## La matriz de asociaciones"
   ]
  }
 ],
 "metadata": {
  "interpreter": {
   "hash": "ac824d9314dcf3e3ec65ce98774119415516c06c800c55d596a680dfe4488604"
  },
  "kernelspec": {
   "display_name": "Python 3.8.6 64-bit",
   "name": "python3"
  },
  "language_info": {
   "name": "python",
   "version": ""
  },
  "metadata": {
   "interpreter": {
    "hash": "ac824d9314dcf3e3ec65ce98774119415516c06c800c55d596a680dfe4488604"
   }
  },
  "orig_nbformat": 2
 },
 "nbformat": 4,
 "nbformat_minor": 2
}