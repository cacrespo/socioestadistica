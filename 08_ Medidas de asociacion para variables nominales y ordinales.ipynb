{
 "cells": [
  {
   "cell_type": "markdown",
   "metadata": {},
   "source": [
    "# Medidas de asociación para variables nominales y ordinales"
   ]
  },
  {
   "cell_type": "markdown",
   "metadata": {},
   "source": [
    "## Medidas de asociación basadas en el criterio de «Reducción Proporcional del Error» (RPE)\r\n",
    "\r\n",
    "En el capítulo anterior tuvimos ocasión de estudiar algunas medidas basadas en la diferencia entre la frecuencia observada y la frecuencia esperada. A continuación vamos a presentar medidas basadas en un criterio diferente: **la reducción proporcional del error**.\r\n",
    "Las medidas de este tipo consisten en cocientes o _ratios_ de la cantidad de error cometido al predecir la variable dependiente en dos situaciones:\r\n",
    "- primeramente, la predicción se realiza cuando no se conoce más que la distribución de la propia variable dependiente;\r\n",
    "- en segundo lugar, la predicción se realiza cuando se dispone del conocimiento adicional de una variable independiente y de la forma en que la variable dependiente se distribuye dentro de las categorías de dicha variable independiente.\r\n",
    "\r\n",
    "$$ RPE = \\frac{\\text{ Reducción del error con más información }}{\\text{ Cantidad original del error} }$$\r\n",
    "\r\n",
    "> <sub>En la década de 1970 Leik y Gove se propusieron un nuevo principio lógico que se basa en la predicción de pares de valores, en lugar de la predicción de valores únicos. En el presente material no vamos a profundizar esta perspectiva.</sub>\r\n",
    "\r\n",
    "Según sea el nivel de medición de las variables cuya asociación tratamos de conocer, así será el tipo de valor que se trata de predecir.\r\n",
    "\r\n",
    "Las medidas de asociación que vamos estudiar a continuación consistenten en un conciente entre los distintos errores:\r\n",
    "\r\n",
    "$$ \\text{ Medida de asociación RPE } = \\frac{\\text{ Errores Predicción I } - \\text{ Errores Predicción II }}{\\text{ Errores Predicción I} }$$"
   ]
  },
  {
   "cell_type": "markdown",
   "metadata": {},
   "source": [
    "## Medidas de asociación para variables nominales\r\n",
    "\r\n",
    "Vamos a presentar dos coeficientes que están basados en el criterio de reducción **proporcional del error de la moda**, se encuentran normalizados y resulta más intuitiva la interpretación de los resultados.\r\n",
    "\r\n",
    "### Coeficiente Lambda\r\n",
    "\r\n",
    "También llamado «coeficiente de predictividad de Guttman». Es una **medida asimétrica** de asociación especialmente creada para analizar **distribuciones bivariables** en las que ambas variables son de tipo **nominal**.\r\n",
    "\r\n",
    "$$ \\lambda_{yx} = \\frac{(N - M_y)-(N-\\sum{m_y})}{N-M_y} = \\frac{\\sum{m_y}-M_y}{N-M_y} $$\r\n",
    "\r\n",
    "En la expresión simplificada (la fórmula como aparece a la derecha): el numerador es el número de no-errores cometidos bajo la predicción II ($\\sum{m_y}$) menos el número de errores cometidos bajo la predicción I ($M_y$), siendo el denominador el número de errores cometidos bajo la predicción I.\r\n",
    "\r\n",
    "El coeficiente varía en magnitud desde el valor 0 al valor 1. El hecho que Lambda sea cero no significa en absoluto que no exista ningún tipo de asociación entre las variables. Por ej. mientras desde el punto de vista de la predicción de la moda el valor de la medida de la asociación es cero, desde el punto de vista de la diferencia de los porcentajes de las columna la asociación podría existir y, por tanto, ser diferente de cero.\r\n",
    "\r\n",
    "Una limitación del coeficiente Lambda es que aunque ofrece una medida bastante sensible a la fuerza de la asociación, no ofrece información sobre la naturaleza de la misma.\r\n",
    "\r\n",
    "### Coeficiente Tau-y de Goodman y Kruskal\r\n",
    "\r\n",
    "### Coeficiente Tau-y de Goodman y Kruskal"
   ]
  },
  {
   "cell_type": "code",
   "execution_count": null,
   "metadata": {},
   "outputs": [],
   "source": [
    "## Medidas de asociación para variables ordinales\r\n",
    "\r\n",
    "\r\n",
    "### Tipos y cálculo de pares\r\n",
    "\r\n",
    "### Coeficiente Tau-a de Kendall\r\n",
    "\r\n",
    "### Coeficiente Gamma de Goodman y Kruskal\r\n",
    "\r\n",
    "### Coeficiente d de Somers\r\n",
    "\r\n",
    "### Coeficiente Tau-b de Kendall\r\n",
    "\r\n",
    "### Coeficiente rho de Spearman\r\n"
   ]
  },
  {
   "cell_type": "code",
   "execution_count": null,
   "metadata": {},
   "outputs": [],
   "source": [
    "## La matriz de asociaciones"
   ]
  }
 ],
 "metadata": {
  "interpreter": {
   "hash": "ac824d9314dcf3e3ec65ce98774119415516c06c800c55d596a680dfe4488604"
  },
  "kernelspec": {
   "display_name": "Python 3.8.6 64-bit",
   "name": "python3"
  },
  "language_info": {
   "name": "python",
   "version": ""
  },
  "metadata": {
   "interpreter": {
    "hash": "ac824d9314dcf3e3ec65ce98774119415516c06c800c55d596a680dfe4488604"
   }
  },
  "orig_nbformat": 2
 },
 "nbformat": 4,
 "nbformat_minor": 2
}