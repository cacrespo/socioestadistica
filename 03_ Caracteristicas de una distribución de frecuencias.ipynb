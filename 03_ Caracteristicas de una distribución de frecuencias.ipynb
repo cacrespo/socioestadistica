{
 "metadata": {
  "language_info": {
   "codemirror_mode": {
    "name": "ipython",
    "version": 3
   },
   "file_extension": ".py",
   "mimetype": "text/x-python",
   "name": "python",
   "nbconvert_exporter": "python",
   "pygments_lexer": "ipython3",
   "version": "3.8.3-final"
  },
  "orig_nbformat": 2,
  "kernelspec": {
   "name": "python3",
   "display_name": "Python 3"
  }
 },
 "nbformat": 4,
 "nbformat_minor": 2,
 "cells": [
  {
   "source": [
    "# Características de una distribución de frecuencias: Tendencia central, dispersión y forma. La distribución normal."
   ],
   "cell_type": "markdown",
   "metadata": {}
  },
  {
   "source": [
    "Procedimientos de medición más precisos para estudiar las características más sobresalientes de las distribuciones de frecuencias, así como tener un buen conocimiento de los posibles sesgos que puedan introducirse al utilizar tales instrumentos de medición.\n",
    "\n",
    "Rasgos de una distribución\n",
    "- **tendencia central**: lugar donde se centra una distribución particular en la escala de valores.\n",
    "- **variación**\n",
    "- **forma**\n",
    "\n",
    "\n",
    "\n"
   ],
   "cell_type": "markdown",
   "metadata": {}
  },
  {
   "source": [
    "## Tendencia central\n",
    "Moda: distribuciones unimodales, bimodales, multimodales.\n",
    "\n",
    "Media aritmética, media geométrica (apropiado cuando hace falta calcular la razón media de varias razones), media armónica (apropiada en problemas que tengan que ver con cambios en el tiempo, distancias, etc.).\n",
    "\n",
    "Mediana.\n",
    "\n",
    "En las distribuciones perfectamente simétricas, la media y la mediana coinciden; mientras que en las distribuciones asimétricas las posiciones relativas de ambos índices varían según el sesgo de la asimetría.\n",
    "\n",
    "Simétrica\n",
    "$ \n",
    "Mod = Med = \\overline{X}\n",
    "$\n",
    "\n",
    "Negativamente Asimétrica\n",
    "$ \n",
    "Mod > Med > \\overline{X}\n",
    "$\n",
    "\n",
    "Positivamente Asimétrica\n",
    "$ \n",
    "Mod < Med < \\overline{X}\n",
    "$\n",
    "\n",
    "<img src=\"https://upload.wikimedia.org/wikipedia/commons/thumb/c/ca/Posiciones_relativas_de_par%C3%A1metros_centrales.svg/300px-Posiciones_relativas_de_par%C3%A1metros_centrales.svg.png\" alt=\"En punteado amarillo: la media, en punteado azul: la moda.\"\ttitle=\"En punteado amarillo: la media, en punteado azul: la moda.\" style=\"background-color:white\" />"
   ],
   "cell_type": "markdown",
   "metadata": {}
  },
  {
   "source": [
    "## Variación\n",
    "Medidas que den cuenta del grado de dispersión o variación de las puntuaciones. Indicar si esas puntuaciones son muy parecidas o muy distintas entre sí.\n",
    "\n",
    "Distintas formas de cálculo según se trate de datos nominales, ordinales o de intervalo:\n",
    "\n",
    "Para los datos de intervalo tenemos dos procedimientos generales:\n",
    "### Recorrido de la escala\n",
    "El recorrido es simplemente la diferencia entre el mayor y el menor del conjunto de valores.\n",
    "             \n",
    "Recorrido intercuartílico $ Q_3 - Q_1 $\n",
    "\n",
    "Recorrido semi-intercuartílico (desviación cuartílica) \n",
    "$ \\frac{Q_3 - Q_1 }{2}$\n",
    "\n",
    "### Desviación de la tendencia central\n",
    "Desviación Media. Media aritmética de los valores absolutos de las desviaciones observadas a un determinado valor medio.\n",
    "$ DM = \\frac{\\sum |X_i - \\overline{X}|}{N}$\n",
    "\n",
    "### Desviación Típica y Varianza.\n",
    "Varianza. El valor medio del cuadrado de las desviaciones de las puntuaciones a la media aritmética.\n",
    "$ s^2 = \\frac{\\sum (X_i - \\overline{X})^2}{N}$\n",
    "\n",
    "Desviación Típica (standard desviation). Raíz cuadrada de la varianza.\n",
    "$ s = \\sqrt{\\frac{\\sum (X_i - \\overline{X})^2}{N}} $\n",
    "\n",
    "Coeficiente de variabilidad.\n",
    "$ V = \\frac{ s }{\\overline{X}} $\n",
    "\n",
    "Una forma de comparar un individuo con un grupo es la creación de *puntuaciones normalizadas* que se suelen designar mediante la letra minúscula *z*. Una puntuación normalizada o típica es simplemente el número de unidades de desviación típica que un individuo queda por encima (o por debajo) de la media de su grupo:\n",
    "$$ z = \\frac{ (X_i - \\overline{X}) }{s} $$\n",
    "Propiedades de las puntuaciones z:\n",
    "- media = 0\n",
    "- desviación típica = 1\n",
    "- suma de los cuadrados de las puntuaciones z = al número N de casos. $ \\sum z^2 = N $"
   ],
   "cell_type": "markdown",
   "metadata": {}
  },
  {
   "source": [
    "## Forma\n",
    "Grado de simetría-asimetría y apuntalamiento.\n",
    "\n",
    "- Unimodal, bimodal, multimodal.\n",
    "- Asimétrica positiva, Simétrica, ASimétrica negativa.\n",
    "- Leptocúrtica, Platicúrtica, Mesocúrtica.\n",
    "- Curva J, Rectangular, Curva en U.\n",
    "\n",
    "### Medidas de la forma de la distribución: Momentos\n",
    "La desviación de las puntuaciones en relación a la media de una distribución se suele expresar mediante la letra minúscula $ x = (X_i - \\overline{X}) $.\n",
    "El **momento de primer orden** con respecto a la media aritmética es el promedio de la primera potencia de las desviaciones con respecto a la media:\n",
    "$$ m_1 = \\frac{\\sum X}{N} $$\n",
    "\n",
    "**Momento de segundo orden** es la varianza:\n",
    "$$ m_2 = \\frac{\\sum X^2}{N} $$\n",
    "\n",
    "**Momento de tercer y cuarto orden...**\n",
    "$ m_3 = \\frac{\\sum X^3}{N} $ $ m_4 = \\frac{\\sum X^4}{N} $\n",
    "\n",
    "El **momento de tercer orden** es un *índice de asimetría* porque es un momento impar: en consecuencia, si las puntuaciones altas y bajas no se equilibran alrededor de la media no sería igual a cero. Además como se trata de un momento elevado, acentúa las desviaciones extremas con respecto al a media. El **momento de cuarto orden** es un momento par, por lo que no diferencia entre las desviaciones por encima o por debajo de la escala media. Por eso, resulta útil como medida del grado de *curtosis* en una distribución.\n",
    "\n",
    "Los momentos vienen medidos en las unidades de medición y con frecuencia hacen falta medidas relativas. En tal caso se utilizan dos medidas:\n",
    "$$ B_1 = \\frac{m_3}{\\sqrt{m_2^3}} $$\n",
    "Si la curva está sesgada a la derecha, $B_1$ tendrá un valor positivo, meintras que si el sesgo es negativo ofrecerá un valor negativo.\n",
    "\n",
    "$$ B_2 = \\frac{m_4}{m_2^2} $$\n",
    "$B_2$ se utiliza como coeficiente de curtosis. Lo valores pequeño sde $B_2$ representan una curva Platicúrtica (más baja que la curva normal), mientas que los valores altos de $B_2$ indican una distribución Leptocúrtica. La curva normal tiene un valor de $B_2$ igual a tres."
   ],
   "cell_type": "markdown",
   "metadata": {}
  },
  {
   "source": [
    "## La Distribución Normal"
   ],
   "cell_type": "markdown",
   "metadata": {}
  }
 ]
}