{
 "metadata": {
  "language_info": {
   "codemirror_mode": {
    "name": "ipython",
    "version": 3
   },
   "file_extension": ".py",
   "mimetype": "text/x-python",
   "name": "python",
   "nbconvert_exporter": "python",
   "pygments_lexer": "ipython3",
   "version": "3.8.3-final"
  },
  "orig_nbformat": 2,
  "kernelspec": {
   "name": "python3",
   "display_name": "Python 3"
  }
 },
 "nbformat": 4,
 "nbformat_minor": 2,
 "cells": [
  {
   "source": [
    "# Características de una distribución de frecuencias: Tendencia central, dispersión y forma. La distribución normal."
   ],
   "cell_type": "markdown",
   "metadata": {}
  },
  {
   "source": [
    "Procedimientos de medición más precisos para estudiar las características más sobresalientes de las distribuciones de frecuencias, así como tener un buen conocimiento de los posibles sesgos que puedan introducirse al utilizar tales instrumentos de medición.\n",
    "\n",
    "Rasgos de una distribución\n",
    "- **tendencia central**: lugar donde se centra una distribución particular en la escala de valores.\n",
    "- **variación**\n",
    "- **forma**\n",
    "\n",
    "\n",
    "\n"
   ],
   "cell_type": "markdown",
   "metadata": {}
  },
  {
   "source": [
    "### Tendencia central\n",
    "Moda: distribuciones unimodales, bimodales, multimodales.\n",
    "\n",
    "Media aritmética, media geométrica (apropiado cuando hace falta calcular la razón media de varias razones), media armónica (apropiada en problemas que tengan que ver con cambios en el tiempo, distancias, etc.).\n",
    "\n",
    "Mediana.\n",
    "\n",
    "En las distribuciones perfectamente simétricas, la media y la mediana coinciden; mientras que en las distribuciones asimétricas las posiciones relativas de ambos índices varían según el sesgo de la asimetría.\n",
    "\n",
    "Simétrica\n",
    "$ \n",
    "Mod = Med = \\overline{X}\n",
    "$\n",
    "\n",
    "Negativamente Asimétrica\n",
    "$ \n",
    "Mod > Med > \\overline{X}\n",
    "$\n",
    "\n",
    "Positivamente Asimétrica\n",
    "$ \n",
    "Mod < Med < \\overline{X}\n",
    "$\n",
    "\n",
    "<img src=\"https://upload.wikimedia.org/wikipedia/commons/thumb/c/ca/Posiciones_relativas_de_par%C3%A1metros_centrales.svg/300px-Posiciones_relativas_de_par%C3%A1metros_centrales.svg.png\" alt=\"En punteado amarillo: la media, en punteado azul: la moda.\"\ttitle=\"En punteado amarillo: la media, en punteado azul: la moda.\" style=\"background-color:white\" />\n",
    "\n",
    "### Variación\n",
    "Medidas que den cuenta del grado de dispersión o variación de las puntuaciones. Indicar si esas puntuaciones son muy parecidas o muy distintas entre sí.\n",
    "### Forma"
   ],
   "cell_type": "markdown",
   "metadata": {}
  }
 ]
}