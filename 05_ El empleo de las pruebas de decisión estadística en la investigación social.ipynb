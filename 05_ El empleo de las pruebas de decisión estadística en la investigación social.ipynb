{
 "metadata": {
  "language_info": {
   "codemirror_mode": {
    "name": "ipython",
    "version": 3
   },
   "file_extension": ".py",
   "mimetype": "text/x-python",
   "name": "python",
   "nbconvert_exporter": "python",
   "pygments_lexer": "ipython3",
   "version": "3.8.3-final"
  },
  "orig_nbformat": 2,
  "kernelspec": {
   "name": "python3",
   "display_name": "Python 3",
   "language": "python"
  }
 },
 "nbformat": 4,
 "nbformat_minor": 2,
 "cells": [
  {
   "source": [
    "# El empleo de las pruebas de decisión estadística en la investigación social. Distribuciones muestrales."
   ],
   "cell_type": "markdown",
   "metadata": {}
  },
  {
   "source": [
    "## Introducción\n",
    "Los métodos de la estadística inferencial nos señalan los procedimientos que hemos de seguir para poder extraer conclusiones válidas y fiables, a partir de la evidencia que suministran las muestras. La lógica de tales procedimientos indica las condiciones bajo las que se han de obtener la evidencia buscada, y las pruebas estadísticas determinan cuál ha de ser el tamaño de las diferencias reales en la población de la que hemos obtenido la muestra.\n",
    "\n",
    "Dos son los problemas que trata de resolver la estadística inferencial en torno a las pruebas estadísticas:\n",
    "- Determinar en términos de probabilidad, si las **diferencias observadas entre dos muestras** significan que las **poblaciones** de las que se han obtenido las muestras **son realmente diferentes**.\n",
    "- Determinar si es probable que un **valor obtenido** a partir de una muestra **pertenece realmente a una población**. \n",
    "\n",
    "Estas dos pruebas de comparación sirven de base para desarrollar los fundamentos de las ***pruebas de decisión estadística*** (*test of hypotheses*).\n",
    "\n",
    "En el desarrollo de las técnicas estadísticas modernas, las primeras que aparecieron fueron aquellas que establecieron un buen número de restricciones sobre la naturaleza de la población de la que se obtenían los valores. Tales técnicas se denominaron: **paramétricas**:\n",
    "> *Si los supuestos acerca de la forma de la población son ciertos, entonces se puede concluir que...*\n",
    "\n",
    "Más recientemente se han desarrollado otras técnicas de inferencia que no exigen tantas restricciones. Tales técnicas **aparamétricas**, o de \"libre distribución\", permiten obtener conclusiones con menos condiciones.\n",
    "> *Con independencia de la forma de la población, se puede concluir que...*\n"
   ],
   "cell_type": "markdown",
   "metadata": {}
  },
  {
   "source": [
    "## El uso de las pruebas de decisión estadística en la investigación\n",
    "\n",
    "\n",
    "### Formulación de las hipótesis estadísticas\n",
    "\n",
    "### Elección de una prueba estadística\n",
    "\n",
    "### El nivel de significación y el tamaño de la muestra\n",
    "\n",
    "### La distribución muestral\n",
    "\n",
    "#### El teorema del límite central\n",
    "\n",
    "#### Tendencia central, variabilidad y forma de una distribución muestral\n",
    "\n",
    "### La región de rechazo. Pruebas unilaterales y pruebas bilaterales\n"
   ],
   "cell_type": "markdown",
   "metadata": {}
  },
  {
   "source": [
    "## Elección de una prueba de decisión estadística apropiada\n"
   ],
   "cell_type": "markdown",
   "metadata": {}
  }
 ]
}