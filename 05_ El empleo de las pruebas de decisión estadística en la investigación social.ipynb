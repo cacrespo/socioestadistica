{
 "metadata": {
  "language_info": {
   "codemirror_mode": {
    "name": "ipython",
    "version": 3
   },
   "file_extension": ".py",
   "mimetype": "text/x-python",
   "name": "python",
   "nbconvert_exporter": "python",
   "pygments_lexer": "ipython3",
   "version": "3.8.3-final"
  },
  "orig_nbformat": 2,
  "kernelspec": {
   "name": "python3",
   "display_name": "Python 3",
   "language": "python"
  }
 },
 "nbformat": 4,
 "nbformat_minor": 2,
 "cells": [
  {
   "source": [
    "# El empleo de las pruebas de decisión estadística en la investigación social. Distribuciones muestrales."
   ],
   "cell_type": "markdown",
   "metadata": {}
  },
  {
   "source": [
    "## Introducción"
   ],
   "cell_type": "markdown",
   "metadata": {}
  },
  {
   "source": [
    "## El uso de las pruebas de decisión estadística en la investigación\n",
    "\n",
    "\n",
    "### Formulación de las hipótesis estadísticas\n",
    "\n",
    "### Elección de una prueba estadística\n",
    "\n",
    "### El nivel de significación y el tamaño de la muestra\n",
    "\n",
    "### La distribución muestral\n",
    "\n",
    "#### El teorema del límite central\n",
    "\n",
    "#### Tendencia central, variabilidad y forma de una distribución muestral\n",
    "\n",
    "### La región de rechazo. Pruebas unilaterales y pruebas bilaterales\n"
   ],
   "cell_type": "markdown",
   "metadata": {}
  },
  {
   "source": [
    "## Elección de una prueba de decisión estadística apropiada\n"
   ],
   "cell_type": "markdown",
   "metadata": {}
  }
 ]
}