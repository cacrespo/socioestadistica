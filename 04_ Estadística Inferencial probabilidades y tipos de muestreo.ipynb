{
 "metadata": {
  "language_info": {
   "codemirror_mode": {
    "name": "ipython",
    "version": 3
   },
   "file_extension": ".py",
   "mimetype": "text/x-python",
   "name": "python",
   "nbconvert_exporter": "python",
   "pygments_lexer": "ipython3",
   "version": "3.8.3-final"
  },
  "orig_nbformat": 2,
  "kernelspec": {
   "name": "python3",
   "display_name": "Python 3"
  }
 },
 "nbformat": 4,
 "nbformat_minor": 2,
 "cells": [
  {
   "source": [
    "# Estadística Inferencial: probabilidades y tipos de muestreo."
   ],
   "cell_type": "markdown",
   "metadata": {}
  },
  {
   "source": [
    "## Introducción a la estadística inferencial\n",
    "\n",
    "## Probabilidad: nociones básicas y definición\n",
    "\n",
    "### Propiedades matemáticas de las probabilidades\n",
    "\n",
    "### Combinatoria y probabilidad\n",
    "\n",
    "### Variaciones y permutaciones\n",
    "\n",
    "### Combinaciones \n",
    "\n",
    "## Aspectos generales del muestreo en la investigación sociológica\n",
    "\n",
    "### Tipos de muestreo\n",
    "\n",
    "- MAS (cr / sr)\n",
    "\n",
    "### Estimadores y errores de muestreo\n",
    "\n",
    "### Determinación del tamaño de la muestra\n",
    "\n",
    "### Otros tipos de muestreo probabilístico\n",
    "\n",
    "### Muestreo no probabilístico\n"
   ],
   "cell_type": "markdown",
   "metadata": {}
  }
 ]
}