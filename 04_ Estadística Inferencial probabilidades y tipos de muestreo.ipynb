{
 "metadata": {
  "language_info": {
   "codemirror_mode": {
    "name": "ipython",
    "version": 3
   },
   "file_extension": ".py",
   "mimetype": "text/x-python",
   "name": "python",
   "nbconvert_exporter": "python",
   "pygments_lexer": "ipython3",
   "version": "3.8.3-final"
  },
  "orig_nbformat": 2,
  "kernelspec": {
   "name": "python3",
   "display_name": "Python 3"
  }
 },
 "nbformat": 4,
 "nbformat_minor": 2,
 "cells": [
  {
   "source": [
    "# Estadística Inferencial: probabilidades y tipos de muestreo."
   ],
   "cell_type": "markdown",
   "metadata": {}
  },
  {
   "source": [
    "## Introducción a la estadística inferencial\n",
    "Objetivo de la estadística inferencial: obtención de generalizaciones estadísticas sobre una población determinada a partir del estudio de las características de una muestra extraída de dicha población o universo.\n",
    "\n",
    "En realidad el campo de la estadística descriptiva no difiere en sus técnicas del campo de la estadística inferencial. La diferencia entre ambos campos estriba en la manera de utilizar tales técnicas. Si las técnicas se utilizan tan sólo para resumir datos, se dice entonces que se trata de técnicas descriptivas. Si se utlizan para estimar parámetros de una población a partir de los cálculos realizados con los datos de una muestra, entonces se trata de técnicas inferenciales.\n",
    "\n",
    "Población --> Parámetros\n",
    "\n",
    "Muestra --> Estadísticos\n",
    "\n",
    "Por lo general, las letras griegas se utilizan para refererise a características de la población, mientras que las letras del abecedario latino se emplean con las características muestrales.\n",
    "\n",
    "Los parámetros que son valores fijos de la población, suelen desconocerse. Los estadísticos, que varían de muestra a muestra, se utilizan para estimar los parámetros. El proceso de estimación, eje de la estadística inferencial, se basa en la teoría de las probabilidades y en la teoría del muestreo."
   ],
   "cell_type": "markdown",
   "metadata": {}
  },
  {
   "source": [
    "## Probabilidad: nociones básicas y definición\n",
    "La *probabilidad matemática*, y las leyes del azar, se refieren tan sólo a sucesos repetidos bajos condiciones determinadas y constantes. Se refiere al resultado medio de un gran número de apariciones u ocurrencias de un suceso.\n",
    "\n",
    "Cuando llega el momento de determinar prácticamente la probabilidad de un determinado suceso sólo existen dos métodos disponibles: \n",
    "\n",
    "- **apriorístico**: definición clásica de probabilidad. \n",
    "    \n",
    "La probabilidad a priori de ocurrencia del suceso A es el cociente entre el número de casos favorables y el número de casos posibles (esta definición supone que todos los casos sean igualmente probables).\n",
    "\n",
    "$$ P(A) = \\frac{a}{n} $$\n",
    "\n",
    "La determinación de la probabilidad se basa en el conocimiento previo de las probabilidades de tales sucesos. Razonamiento circular.\n",
    "\n",
    "- **empírico**: Se basan en el supuesto de que la proporción de aparición de los sucesos observada en el pasado persistirá en el futuro.\n",
    "\n",
    "Las probabilidades empíricas son tan sólo estimaciones de las *probabilidades verdaderas*, pero cuanto mayor sea el número total de casos observados más precisa será la estimación.\n",
    " \n",
    "### Propiedades matemáticas de las probabilidades\n",
    "\n",
    "### Combinatoria y probabilidad\n",
    "\n",
    "### Variaciones y permutaciones\n",
    "\n",
    "### Combinaciones "
   ],
   "cell_type": "markdown",
   "metadata": {}
  },
  {
   "source": [
    "## Aspectos generales del muestreo en la investigación sociológica\n",
    "\n",
    "### Tipos de muestreo\n",
    "\n",
    "- MAS (cr / sr)\n",
    "\n",
    "### Estimadores y errores de muestreo\n",
    "\n",
    "### Determinación del tamaño de la muestra\n",
    "\n",
    "### Otros tipos de muestreo probabilístico\n",
    "\n",
    "### Muestreo no probabilístico"
   ],
   "cell_type": "markdown",
   "metadata": {}
  }
 ]
}