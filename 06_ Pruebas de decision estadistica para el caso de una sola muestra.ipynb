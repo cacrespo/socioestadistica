{
 "metadata": {
  "language_info": {
   "codemirror_mode": {
    "name": "ipython",
    "version": 3
   },
   "file_extension": ".py",
   "mimetype": "text/x-python",
   "name": "python",
   "nbconvert_exporter": "python",
   "pygments_lexer": "ipython3",
   "version": "3.8.5-final"
  },
  "orig_nbformat": 2,
  "kernelspec": {
   "name": "python3",
   "display_name": "Python 3",
   "language": "python"
  }
 },
 "nbformat": 4,
 "nbformat_minor": 2,
 "cells": [
  {
   "source": [
    "# Pruebas de decisión estadística para el caso de una sola muestra"
   ],
   "cell_type": "markdown",
   "metadata": {}
  },
  {
   "source": [
    "## Introducción\n",
    "\n",
    "Las pruebas estadísticas de este tipo generalmente informan si la muestra bajo estudio pertenece a una población determinada o no. En último término, contrastar los valores observados de una sola variable en una muestra en relación a los valores que toma dicha variable en la población. "
   ],
   "cell_type": "markdown",
   "metadata": {}
  },
  {
   "source": [
    "## La distribución binomial. La prueba binomial\n",
    "Existen poblaciones formadas tan sólo por dos categorías ($P$ y $Q$).\n",
    "\n",
    "La *distribución binomial* es la distribución muestral de las proporciones que se pueden observar en muestras aleatorias extraídas de una población que se caracteriza por estar compuesta por dos categorías de casos. La prueba binomial, al ser una prueba que mide la bondad del ajuste, nos dice si cabe esperar que las proporciones que se observan en una muestra puede pertenecer a una población que tiene un valor específico de $ P $.\n",
    "\n",
    "$$ p(x) = \\binom{N}{x}P^xQ^{n-x} $$\n",
    "donde:\n",
    "$$ \\binom{N}{x} = \\frac{N!}{x!(N-x)!}$$\n"
   ],
   "cell_type": "markdown",
   "metadata": {}
  },
  {
   "cell_type": "code",
   "execution_count": 14,
   "metadata": {},
   "outputs": [
    {
     "output_type": "stream",
     "name": "stdout",
     "text": [
      "0.11574074074074076\n"
     ]
    },
    {
     "output_type": "execute_result",
     "data": {
      "text/plain": [
       "0.9837962962962963"
      ]
     },
     "metadata": {},
     "execution_count": 14
    }
   ],
   "source": [
    "# Lanzamos un dado 4 veces y queresmos saber la probabilidad de que en dos lanzamientos salga 5.\n",
    "\n",
    "N = 4\n",
    "x = 2\n",
    "P = 1/6\n",
    "Q = 5/6\n",
    "\n",
    "a = (N * 3 * 2 * 1) / ((x * 1) * (N - x))\n",
    "b = P**2\n",
    "c = Q**(N-x)\n",
    "print(a*b*c)\n",
    "\n",
    "# https://docs.scipy.org/doc/scipy/reference/generated/scipy.stats.binom.html#scipy.stats.binom\n",
    "from scipy.stats import binom\n",
    "binom.pmf(x, N, P)\n",
    "\n",
    "# distribución acumulada P <=2\n",
    "binom.cdf(x, N, P)"
   ]
  },
  {
   "source": [
    "### Ejemplo del uso de la prueba binomial\n"
   ],
   "cell_type": "markdown",
   "metadata": {}
  },
  {
   "source": [
    "## La prueba de chi-cuadrado ($\\chi^2$) para una sola muestra\n",
    "\n",
    "### Ejemplo de uso de la prueba de $\\chi^2$"
   ],
   "cell_type": "markdown",
   "metadata": {}
  },
  {
   "source": [
    "## Distribuciones muestrales de las medias\n",
    "\n",
    "### Prueba para la media de una población, cuando se conoce la desviación típica $ \\alpha $\n",
    "\n",
    "### La distribución $ t $ de Student"
   ],
   "cell_type": "markdown",
   "metadata": {}
  },
  {
   "source": [
    "## Estimación puntual y por intervalo de parámetros\n",
    "\n",
    "### Intervalo de proporciones. Intervalos de confianza\n",
    "\n",
    "### Estimación de medias\n",
    "\n",
    "### Determinación del tamaño de la muestra"
   ],
   "cell_type": "markdown",
   "metadata": {}
  },
  {
   "cell_type": "code",
   "execution_count": null,
   "metadata": {},
   "outputs": [],
   "source": [
    "# Ejercicios"
   ]
  }
 ]
}