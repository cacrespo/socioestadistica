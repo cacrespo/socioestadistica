{
 "metadata": {
  "language_info": {
   "codemirror_mode": {
    "name": "ipython",
    "version": 3
   },
   "file_extension": ".py",
   "mimetype": "text/x-python",
   "name": "python",
   "nbconvert_exporter": "python",
   "pygments_lexer": "ipython3",
   "version": 3
  },
  "orig_nbformat": 2
 },
 "nbformat": 4,
 "nbformat_minor": 2,
 "cells": [
  {
   "source": [
    "# Estadística descriptiva univariable: la lógica del análisis comparativo"
   ],
   "cell_type": "markdown",
   "metadata": {}
  },
  {
   "source": [
    "¿*Qué* debe compararse? ¿*Cómo* debe hacerse la comparación?\n",
    "\n",
    "- Comparación entre grupos (ej. grupo experimental y grupo control)\n",
    "- Comparaciones entre un grupo y un caso individual\n",
    "- Comparaciones entre los resultados de un estudio y unos resultados estandarizados (las teorías conocidas son una fuente sugerente de comparaciones estándar)\n",
    "\n",
    "Dos operaciones fundamentales: organización y ordenación de los datos; y tratamiento aritmético.\n",
    "\n",
    "- (...)\n",
    "- Punto medio de clase\n",
    "- Error de agrupamiento\n",
    "- Rango (diferencia entre el mayor y el menor de los datos registrados)\n",
    "- Proporción\n",
    "- Porcentaje\n",
    "- Percentil, cuartil, decil.\n",
    "\n",
    "\n",
    "- Razón: Las proporciones y los porcentajes son un tipo especial de razón, en donde el denominador es el número total de casos y el numerador una fracción dada de dicho número, en el caso de la proporción, y esa misma fracción del número multiplicada por 100 en el caso del porcentaje. Pero, a diferencia de la proporción, la razón puede ser mayor que la unidad.\n",
    "\n",
    "- Tasa: La tasa es un coeficiente que expresa la relación entre la cantidad y la frecuencia de un fenómeno o un grupo de números.\n",
    "- Tasa de crecimiento relativo: Incremento real durante un período dado dividido por el tamaño que había al comienzo del período."
   ],
   "cell_type": "markdown",
   "metadata": {}
  }
 ]
}