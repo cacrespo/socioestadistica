{
 "cells": [
  {
   "cell_type": "markdown",
   "metadata": {},
   "source": [
    "# Estadística descriptiva bivariable: características de una asociación bivariable"
   ]
  },
  {
   "cell_type": "markdown",
   "metadata": {},
   "source": [
    "Nos adentramos un poco más en las condiciones que influyen en la distribución de una variable."
   ]
  },
  {
   "cell_type": "code",
   "execution_count": 1,
   "metadata": {},
   "outputs": [
    {
     "data": {
      "text/html": "<div>\n<style scoped>\n    .dataframe tbody tr th:only-of-type {\n        vertical-align: middle;\n    }\n\n    .dataframe tbody tr th {\n        vertical-align: top;\n    }\n\n    .dataframe thead th {\n        text-align: right;\n    }\n</style>\n<table border=\"1\" class=\"dataframe\">\n  <thead>\n    <tr style=\"text-align: right;\">\n      <th></th>\n      <th>Total</th>\n      <th>Muy católicos</th>\n      <th>Practicantes</th>\n      <th>No muy practicantes</th>\n      <th>No practicantes</th>\n      <th>Indiferentes</th>\n    </tr>\n  </thead>\n  <tbody>\n    <tr>\n      <th>Izquierda</th>\n      <td>18</td>\n      <td>5</td>\n      <td>8</td>\n      <td>16</td>\n      <td>34</td>\n      <td>52</td>\n    </tr>\n    <tr>\n      <th>Centro</th>\n      <td>38</td>\n      <td>30</td>\n      <td>43</td>\n      <td>35</td>\n      <td>37</td>\n      <td>28</td>\n    </tr>\n    <tr>\n      <th>Derecha</th>\n      <td>22</td>\n      <td>39</td>\n      <td>26</td>\n      <td>18</td>\n      <td>11</td>\n      <td>6</td>\n    </tr>\n    <tr>\n      <th>NsNc</th>\n      <td>21</td>\n      <td>26</td>\n      <td>23</td>\n      <td>21</td>\n      <td>18</td>\n      <td>14</td>\n    </tr>\n  </tbody>\n</table>\n</div>",
      "text/plain": "           Total  Muy católicos  Practicantes  No muy practicantes  \\\nIzquierda     18              5             8                   16   \nCentro        38             30            43                   35   \nDerecha       22             39            26                   18   \nNsNc          21             26            23                   21   \n\n           No practicantes  Indiferentes  \nIzquierda               34            52  \nCentro                  37            28  \nDerecha                 11             6  \nNsNc                    18            14  "
     },
     "execution_count": 1,
     "metadata": {},
     "output_type": "execute_result"
    }
   ],
   "source": [
    "# Distribución porcentual bivariable\r\n",
    "import pandas as pd\r\n",
    "\r\n",
    "datos_pct = {'Total': [18, 38, 22, 21], 'Muy católicos': [5, 30, 39, 26], 'Practicantes': [8, 43, 26, 23], 'No muy practicantes': [16, 35, 18, 21], 'No practicantes': [34, 37, 11, 18], 'Indiferentes': [52, 28, 6, 14] }\r\n",
    "df = pd.DataFrame(datos_pct, index = ['Izquierda', 'Centro', 'Derecha', 'NsNc'])\r\n",
    "df"
   ]
  },
  {
   "cell_type": "markdown",
   "metadata": {},
   "source": [
    "Por lo general se sigue la convención de situar la variable dependiente, cuando la hubiere, en las filas, y la variable independiente en las columnas.\r\n",
    "\r\n",
    "¿Qué comparación debe facilitarse a a hora de calcular porcentajes? Existe una regla sencilla, universalmente aceptada: los porcentajes deben calcularse en el sentido del factor _causal_ o de la **_variables independiente_**.\r\n",
    "\r\n",
    "La diferencia entre porcentajes de columnas se conoce como _epsilón_ ($ \\epsilon $)"
   ]
  },
  {
   "cell_type": "code",
   "execution_count": 2,
   "metadata": {},
   "outputs": [
    {
     "data": {
      "text/plain": "Izquierda     3\nCentro       13\nDerecha     -13\nNsNc         -3\ndtype: int64"
     },
     "execution_count": 2,
     "metadata": {},
     "output_type": "execute_result"
    }
   ],
   "source": [
    "# Ej. epsilon\r\n",
    "\r\n",
    "df['Practicantes'] - df['Muy católicos']\r\n"
   ]
  },
  {
   "cell_type": "markdown",
   "metadata": {},
   "source": [
    "## Características de una asociación de dos variables\r\n",
    "\r\n",
    "Se puede caracterizar la relación entre dos variables mediante el estudio de las siguientes características:\r\n",
    "1. **existencia** o no de una asociación\r\n",
    "2. la **fuerza** de la asociación\r\n",
    "3. la **dirección** de la asociación\r\n",
    "4. la **naturaleza** de la asociación"
   ]
  },
  {
   "cell_type": "markdown",
   "metadata": {},
   "source": []
  }
 ],
 "metadata": {
  "kernelspec": {
   "display_name": "Python 3.8.6 64-bit",
   "name": "python386jvsc74a57bd0ac824d9314dcf3e3ec65ce98774119415516c06c800c55d596a680dfe4488604"
  },
  "language_info": {
   "codemirror_mode": {
    "name": "ipython",
    "version": 3
   },
   "file_extension": ".py",
   "mimetype": "text/x-python",
   "name": "python",
   "nbconvert_exporter": "python",
   "pygments_lexer": "ipython3",
   "version": "3.8.6"
  },
  "metadata": {
   "interpreter": {
    "hash": "ac824d9314dcf3e3ec65ce98774119415516c06c800c55d596a680dfe4488604"
   }
  },
  "orig_nbformat": 2
 },
 "nbformat": 4,
 "nbformat_minor": 2
}