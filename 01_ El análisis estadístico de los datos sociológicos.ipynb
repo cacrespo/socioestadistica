{
 "metadata": {
  "language_info": {
   "codemirror_mode": {
    "name": "ipython",
    "version": 3
   },
   "file_extension": ".py",
   "mimetype": "text/x-python",
   "name": "python",
   "nbconvert_exporter": "python",
   "pygments_lexer": "ipython3",
   "version": 3
  },
  "orig_nbformat": 2
 },
 "nbformat": 4,
 "nbformat_minor": 2,
 "cells": [
  {
   "source": [
    "# El análisis estadístico de los datos sociológicos"
   ],
   "cell_type": "markdown",
   "metadata": {}
  },
  {
   "source": [
    "\n",
    "Estadística descriptiva y estadística inferencial\n",
    "\n",
    "Medición de Variables\n",
    "\n",
    "Instrumentos de medición válido y confiable.\n",
    "\n",
    "- Medidas nominales\n",
    "- Medidas ordinales\n",
    "- Medidas de Intervalo\n",
    "- Medidas de cociente o proporciones\n",
    "\n",
    "Tipos de Variables\n",
    "- Continua\n",
    "- Discreta\n",
    "\n",
    "\n",
    "- Independiente\n",
    "- Interviniente\n",
    "- Dependiente"
   ],
   "cell_type": "markdown",
   "metadata": {}
  }
 ]
}